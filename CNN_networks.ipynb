{
 "cells": [
  {
   "cell_type": "code",
   "execution_count": 49,
   "metadata": {},
   "outputs": [
    {
     "name": "stdout",
     "output_type": "stream",
     "text": [
      "TF 2.9.1\n"
     ]
    }
   ],
   "source": [
    "import tensorflow as tf\n",
    "print(\"TF\",tf.__version__)\n",
    "\n",
    "import time\n",
    "import numpy as np\n",
    "import matplotlib.pyplot as plt\n",
    "\n",
    "import pathlib\n",
    "import os\n",
    "\n",
    "from tensorflow.keras.preprocessing.image import ImageDataGenerator\n",
    "from tensorflow.keras.optimizers import Adam\n",
    "from tensorflow.keras.callbacks import EarlyStopping, ReduceLROnPlateau\n",
    "\n",
    "from tensorflow.keras.models import Sequential\n",
    "from tensorflow.keras.layers import Input,Dense,GlobalAveragePooling2D,BatchNormalization,Dropout\n",
    "from tensorflow.keras import layers\n"
   ]
  },
  {
   "cell_type": "code",
   "execution_count": 50,
   "metadata": {},
   "outputs": [
    {
     "name": "stdout",
     "output_type": "stream",
     "text": [
      "127\n"
     ]
    }
   ],
   "source": [
    "# data 불러오기\n",
    "data_dir = 'dataset'\n",
    "train_dir = os.path.join(data_dir,\"data\")\n",
    "train_fnames = os.listdir(train_dir)\n",
    "NUM_CLASSES = len(train_fnames)\n",
    "print(NUM_CLASSES)\n",
    "\n",
    "# 학습 스케줄링\n",
    "earlystopping = EarlyStopping(monitor='val_accuracy', \n",
    "                              patience=50,\n",
    "                              mode = 'max',\n",
    "                              restore_best_weights= True         \n",
    "                             )\n",
    "\n",
    "reduceLR = ReduceLROnPlateau(\n",
    "    monitor='val_accuracy', \n",
    "    factor=0.1,         \n",
    "    patience=5,         \n",
    "    min_lr=1e-6\n",
    ")\n",
    "\n",
    "\n",
    "# 학습데이터 생성\n",
    "def image_preprocess(train_dir,IMG_SIZE):\n",
    "    train_datagen = ImageDataGenerator(rescale=1./255.,\n",
    "                                    horizontal_flip = True,\n",
    "                                    validation_split=0.1)\n",
    "\n",
    "    train_data = train_datagen.flow_from_directory(train_dir,\n",
    "                                                target_size=(IMG_SIZE,IMG_SIZE),\n",
    "                                                batch_size=32,\n",
    "                                                class_mode=\"categorical\",\n",
    "                                                shuffle = True,\n",
    "                                                subset='training')\n",
    "    \n",
    "    validation_data = train_datagen.flow_from_directory(train_dir,\n",
    "                                                target_size=(IMG_SIZE,IMG_SIZE),\n",
    "                                                batch_size=32,\n",
    "                                                class_mode=\"categorical\",\n",
    "                                                shuffle = True,\n",
    "                                                subset='validation')\n",
    "    return train_data,validation_data"
   ]
  },
  {
   "cell_type": "code",
   "execution_count": 51,
   "metadata": {},
   "outputs": [],
   "source": [
    "## 모델 훈련\n",
    "def model_learning(Model,model_name,train_data,validation_data):\n",
    "    model = Sequential()\n",
    "    model = Model\n",
    "    model.compile(optimizer = Adam(1e-2),\n",
    "                loss = 'categorical_crossentropy',\n",
    "                metrics = ['accuracy'])\n",
    "\n",
    "    history = model.fit(train_data,\n",
    "                    epochs = 100,\n",
    "                    batch_size=128,\n",
    "                    validation_data = validation_data,\n",
    "                    callbacks=[reduceLR , earlystopping],\n",
    "                    )\n",
    "#################################################################################    \n",
    "    his_dict = history.history\n",
    "    loss = his_dict['loss']\n",
    "    val_loss = his_dict['val_loss'] \n",
    "\n",
    "    epochs = range(1, len(loss) + 1)\n",
    "    fig = plt.figure(figsize = (15, 10))\n",
    "\n",
    "# 훈련 및 검증 손실 그리기\n",
    "    ax1 = fig.add_subplot(1, 2, 1)\n",
    "    ax1.plot(epochs, loss, color = 'blue', label = 'train loss')\n",
    "    ax1.plot(epochs, val_loss, color = 'red',linestyle='--', label = 'validation loss')\n",
    "    ax1.set_title('train and val loss')\n",
    "    ax1.set_xlabel('epochs')\n",
    "    ax1.set_ylabel('loss')\n",
    "    ax1.legend()\n",
    "\n",
    "    acc = his_dict['accuracy']\n",
    "    val_acc = his_dict['val_accuracy']\n",
    "\n",
    "# 훈련 및 검증 정확도 그리기\n",
    "    ax2 = fig.add_subplot(1, 2, 2)\n",
    "    ax2.plot(epochs, acc, color = 'blue', label = 'train accuracy')\n",
    "    ax2.plot(epochs, val_acc, color = 'red',linestyle='--', label = 'validation accuracy')\n",
    "    ax2.set_title('train and val accuracy')\n",
    "    ax2.set_xlabel('epochs')\n",
    "    ax2.set_ylabel('accuracy')\n",
    "    ax2.legend()\n",
    "\n",
    "    model.save(str(model_name)+\".h5\")    \n",
    "    plt.savefig(str(model_name)+\".png\",dpi=200)\n",
    "\n",
    "    tf.keras.backend.clear_session()\n",
    "\n",
    "    return\n",
    "\n",
    "\n"
   ]
  },
  {
   "cell_type": "code",
   "execution_count": 108,
   "metadata": {},
   "outputs": [],
   "source": [
    "## 모델 생성\n",
    "def model_generator(train_model,layers_number,IMG_SIZE):\n",
    "\n",
    "    trainmodel = train_model(include_top=False, input_shape=(IMG_SIZE,IMG_SIZE,3), weights=\"imagenet\",pooling='max', classes=1000)\n",
    "\n",
    "    top_model = trainmodel.layers[-2].output\n",
    "    top_model = Dropout(0.2)(top_model)\n",
    "    top_model = tf.keras.layers.GlobalAveragePooling2D(top_model)\n",
    "    predict_layer = tf.keras.layers.Dense(127,activation=\"softmax\")(top_model)\n",
    " \n",
    "    model = tf.keras.Model(inputs=top_model.input,outputs=predict_layer)\n",
    "\n",
    "    for layer in model.layers[:-layers_number]:\n",
    "        layer.trainable=False\n",
    "\n",
    "    for layer in model.layers[-layers_number:]:\n",
    "        layer.trainable=True\n",
    "\n",
    "    return model\n"
   ]
  },
  {
   "cell_type": "code",
   "execution_count": 109,
   "metadata": {},
   "outputs": [],
   "source": [
    "# 224, 244\n",
    "from tensorflow.keras.applications import MobileNet,MobileNetV2,DenseNet121,DenseNet201,NASNetMobile,EfficientNetB0,EfficientNetB1,EfficientNetB2,EfficientNetB3,EfficientNetB4,EfficientNetB5\n",
    "\n",
    "from tensorflow.keras.applications import EfficientNetV2B0,EfficientNetV2B1,EfficientNetV2B2,EfficientNetV2B3,EfficientNetV2S,EfficientNetV2M\n",
    "\n",
    "# 244,244\n",
    "from tensorflow.keras.applications import ResNet50,ResNet50V2,MobileNet,VGG16\n",
    "\n",
    "# 299,299\n",
    "from tensorflow.keras.applications import InceptionV3"
   ]
  },
  {
   "cell_type": "code",
   "execution_count": 113,
   "metadata": {},
   "outputs": [
    {
     "name": "stdout",
     "output_type": "stream",
     "text": [
      "Found 23523 images belonging to 127 classes.\n",
      "Found 2558 images belonging to 127 classes.\n"
     ]
    }
   ],
   "source": [
    "IMG_SIZE=300\n",
    "model = model_generator(VGG16,10,IMG_SIZE)\n",
    "train_data,validation_data=image_preprocess(train_dir,IMG_SIZE)\n",
    "model.summary()\n",
    "model_name = \"VGG16\"\n",
    "model_learning(model,model_name,train_data,validation_data)"
   ]
  },
  {
   "cell_type": "code",
   "execution_count": 114,
   "metadata": {},
   "outputs": [
    {
     "name": "stdout",
     "output_type": "stream",
     "text": [
      "Model: \"model_11\"\n",
      "_________________________________________________________________\n",
      " Layer (type)                Output Shape              Param #   \n",
      "=================================================================\n",
      " input_32 (InputLayer)       [(None, 300, 300, 3)]     0         \n",
      "                                                                 \n",
      " block1_conv1 (Conv2D)       (None, 300, 300, 64)      1792      \n",
      "                                                                 \n",
      " block1_conv2 (Conv2D)       (None, 300, 300, 64)      36928     \n",
      "                                                                 \n",
      " block1_pool (MaxPooling2D)  (None, 150, 150, 64)      0         \n",
      "                                                                 \n",
      " block2_conv1 (Conv2D)       (None, 150, 150, 128)     73856     \n",
      "                                                                 \n",
      " block2_conv2 (Conv2D)       (None, 150, 150, 128)     147584    \n",
      "                                                                 \n",
      " block2_pool (MaxPooling2D)  (None, 75, 75, 128)       0         \n",
      "                                                                 \n",
      " block3_conv1 (Conv2D)       (None, 75, 75, 256)       295168    \n",
      "                                                                 \n",
      " block3_conv2 (Conv2D)       (None, 75, 75, 256)       590080    \n",
      "                                                                 \n",
      " block3_conv3 (Conv2D)       (None, 75, 75, 256)       590080    \n",
      "                                                                 \n",
      " block3_pool (MaxPooling2D)  (None, 37, 37, 256)       0         \n",
      "                                                                 \n",
      " block4_conv1 (Conv2D)       (None, 37, 37, 512)       1180160   \n",
      "                                                                 \n",
      " block4_conv2 (Conv2D)       (None, 37, 37, 512)       2359808   \n",
      "                                                                 \n",
      " block4_conv3 (Conv2D)       (None, 37, 37, 512)       2359808   \n",
      "                                                                 \n",
      " block4_pool (MaxPooling2D)  (None, 18, 18, 512)       0         \n",
      "                                                                 \n",
      " block5_conv1 (Conv2D)       (None, 18, 18, 512)       2359808   \n",
      "                                                                 \n",
      " block5_conv2 (Conv2D)       (None, 18, 18, 512)       2359808   \n",
      "                                                                 \n",
      " block5_conv3 (Conv2D)       (None, 18, 18, 512)       2359808   \n",
      "                                                                 \n",
      " block5_pool (MaxPooling2D)  (None, 9, 9, 512)         0         \n",
      "                                                                 \n",
      " global_max_pooling2d_14 (Gl  (None, 512)              0         \n",
      " obalMaxPooling2D)                                               \n",
      "                                                                 \n",
      " dense_13 (Dense)            (None, 127)               65151     \n",
      "                                                                 \n",
      "=================================================================\n",
      "Total params: 14,779,839\n",
      "Trainable params: 65,151\n",
      "Non-trainable params: 14,714,688\n",
      "_________________________________________________________________\n"
     ]
    }
   ],
   "source": [
    "model = model_generator(MobileNet,10,IMG_SIZE)\n",
    "train_data,validation_data=image_preprocess(train_dir,IMG_SIZE)\n",
    "model.summary()\n",
    "model_name = \"MobileNet\"\n",
    "model_learning(model,model_name,train_data,validation_data)"
   ]
  },
  {
   "cell_type": "code",
   "execution_count": 115,
   "metadata": {},
   "outputs": [
    {
     "name": "stdout",
     "output_type": "stream",
     "text": [
      "Epoch 1/100\n",
      "736/736 [==============================] - 112s 149ms/step - loss: 4.9871 - accuracy: 0.1644 - val_loss: 4.4365 - val_accuracy: 0.2357 - lr: 0.0100\n",
      "Epoch 2/100\n",
      "736/736 [==============================] - 112s 152ms/step - loss: 3.8959 - accuracy: 0.2945 - val_loss: 4.4603 - val_accuracy: 0.2596 - lr: 0.0100\n",
      "Epoch 3/100\n",
      "736/736 [==============================] - 112s 152ms/step - loss: 3.5944 - accuracy: 0.3440 - val_loss: 4.1725 - val_accuracy: 0.2893 - lr: 0.0100\n",
      "Epoch 4/100\n",
      "736/736 [==============================] - 119s 161ms/step - loss: 3.6142 - accuracy: 0.3635 - val_loss: 4.7854 - val_accuracy: 0.2834 - lr: 0.0100\n",
      "Epoch 5/100\n",
      "736/736 [==============================] - 116s 158ms/step - loss: 3.4126 - accuracy: 0.3914 - val_loss: 4.8818 - val_accuracy: 0.2889 - lr: 0.0100\n",
      "Epoch 6/100\n",
      "736/736 [==============================] - 119s 161ms/step - loss: 3.4162 - accuracy: 0.4025 - val_loss: 5.2231 - val_accuracy: 0.2834 - lr: 0.0100\n",
      "Epoch 7/100\n",
      "736/736 [==============================] - 116s 157ms/step - loss: 3.3391 - accuracy: 0.4170 - val_loss: 5.1313 - val_accuracy: 0.3045 - lr: 0.0100\n",
      "Epoch 8/100\n",
      "736/736 [==============================] - 114s 155ms/step - loss: 3.3094 - accuracy: 0.4267 - val_loss: 6.1294 - val_accuracy: 0.2744 - lr: 0.0100\n",
      "Epoch 9/100\n",
      "736/736 [==============================] - 113s 153ms/step - loss: 3.3134 - accuracy: 0.4351 - val_loss: 5.5038 - val_accuracy: 0.3018 - lr: 0.0100\n",
      "Epoch 10/100\n",
      "736/736 [==============================] - 114s 154ms/step - loss: 3.2807 - accuracy: 0.4418 - val_loss: 5.1589 - val_accuracy: 0.3084 - lr: 0.0100\n",
      "Epoch 11/100\n",
      "736/736 [==============================] - 116s 157ms/step - loss: 3.1486 - accuracy: 0.4582 - val_loss: 6.1276 - val_accuracy: 0.2830 - lr: 0.0100\n",
      "Epoch 12/100\n",
      "736/736 [==============================] - 119s 162ms/step - loss: 3.1479 - accuracy: 0.4594 - val_loss: 5.5415 - val_accuracy: 0.2987 - lr: 0.0100\n",
      "Epoch 13/100\n",
      "736/736 [==============================] - 122s 166ms/step - loss: 3.1920 - accuracy: 0.4627 - val_loss: 6.6537 - val_accuracy: 0.2823 - lr: 0.0100\n",
      "Epoch 14/100\n",
      "736/736 [==============================] - 120s 163ms/step - loss: 3.1984 - accuracy: 0.4684 - val_loss: 5.4994 - val_accuracy: 0.3260 - lr: 0.0100\n",
      "Epoch 15/100\n",
      "736/736 [==============================] - 119s 162ms/step - loss: 3.1382 - accuracy: 0.4774 - val_loss: 6.6554 - val_accuracy: 0.2873 - lr: 0.0100\n",
      "Epoch 16/100\n",
      "736/736 [==============================] - 112s 152ms/step - loss: 3.1049 - accuracy: 0.4796 - val_loss: 6.4234 - val_accuracy: 0.2987 - lr: 0.0100\n",
      "Epoch 17/100\n",
      "736/736 [==============================] - 119s 161ms/step - loss: 3.1120 - accuracy: 0.4885 - val_loss: 6.1326 - val_accuracy: 0.3038 - lr: 0.0100\n",
      "Epoch 18/100\n",
      "736/736 [==============================] - 112s 152ms/step - loss: 3.0582 - accuracy: 0.4868 - val_loss: 6.3410 - val_accuracy: 0.3096 - lr: 0.0100\n",
      "Epoch 19/100\n",
      "736/736 [==============================] - 103s 139ms/step - loss: 3.0014 - accuracy: 0.4977 - val_loss: 6.5042 - val_accuracy: 0.2995 - lr: 0.0100\n",
      "Epoch 20/100\n",
      "736/736 [==============================] - 93s 126ms/step - loss: 1.3683 - accuracy: 0.6751 - val_loss: 4.6838 - val_accuracy: 0.3620 - lr: 1.0000e-03\n",
      "Epoch 21/100\n",
      "736/736 [==============================] - 93s 126ms/step - loss: 1.2679 - accuracy: 0.6888 - val_loss: 4.6453 - val_accuracy: 0.3589 - lr: 1.0000e-03\n",
      "Epoch 22/100\n",
      "736/736 [==============================] - 111s 151ms/step - loss: 1.2526 - accuracy: 0.6870 - val_loss: 4.7003 - val_accuracy: 0.3620 - lr: 1.0000e-03\n",
      "Epoch 23/100\n",
      "736/736 [==============================] - 113s 153ms/step - loss: 1.2316 - accuracy: 0.6917 - val_loss: 4.6809 - val_accuracy: 0.3620 - lr: 1.0000e-03\n",
      "Epoch 24/100\n",
      "736/736 [==============================] - 112s 152ms/step - loss: 1.2173 - accuracy: 0.6930 - val_loss: 4.6561 - val_accuracy: 0.3632 - lr: 1.0000e-03\n",
      "Epoch 25/100\n",
      "736/736 [==============================] - 119s 161ms/step - loss: 1.1870 - accuracy: 0.6932 - val_loss: 4.5937 - val_accuracy: 0.3518 - lr: 1.0000e-03\n",
      "Epoch 26/100\n",
      "736/736 [==============================] - 119s 161ms/step - loss: 1.1603 - accuracy: 0.6995 - val_loss: 4.5800 - val_accuracy: 0.3647 - lr: 1.0000e-03\n",
      "Epoch 27/100\n",
      "736/736 [==============================] - 119s 162ms/step - loss: 1.1422 - accuracy: 0.7009 - val_loss: 4.6095 - val_accuracy: 0.3597 - lr: 1.0000e-03\n",
      "Epoch 28/100\n",
      "736/736 [==============================] - 119s 162ms/step - loss: 1.1283 - accuracy: 0.7031 - val_loss: 4.5946 - val_accuracy: 0.3616 - lr: 1.0000e-03\n",
      "Epoch 29/100\n",
      "736/736 [==============================] - 119s 162ms/step - loss: 1.1034 - accuracy: 0.7047 - val_loss: 4.5970 - val_accuracy: 0.3542 - lr: 1.0000e-03\n",
      "Epoch 30/100\n",
      "736/736 [==============================] - 109s 149ms/step - loss: 1.1087 - accuracy: 0.7073 - val_loss: 4.5595 - val_accuracy: 0.3526 - lr: 1.0000e-03\n",
      "Epoch 31/100\n",
      "736/736 [==============================] - 112s 153ms/step - loss: 1.0845 - accuracy: 0.7105 - val_loss: 4.5656 - val_accuracy: 0.3518 - lr: 1.0000e-03\n",
      "Epoch 32/100\n",
      "736/736 [==============================] - 119s 162ms/step - loss: 0.9632 - accuracy: 0.7419 - val_loss: 4.4413 - val_accuracy: 0.3546 - lr: 1.0000e-04\n",
      "Epoch 33/100\n",
      "736/736 [==============================] - 119s 162ms/step - loss: 0.9583 - accuracy: 0.7475 - val_loss: 4.5059 - val_accuracy: 0.3616 - lr: 1.0000e-04\n",
      "Epoch 34/100\n",
      "736/736 [==============================] - 119s 162ms/step - loss: 0.9605 - accuracy: 0.7462 - val_loss: 4.4505 - val_accuracy: 0.3628 - lr: 1.0000e-04\n",
      "Epoch 35/100\n",
      "736/736 [==============================] - 119s 162ms/step - loss: 0.9482 - accuracy: 0.7482 - val_loss: 4.4948 - val_accuracy: 0.3600 - lr: 1.0000e-04\n",
      "Epoch 36/100\n",
      "736/736 [==============================] - 103s 140ms/step - loss: 0.9590 - accuracy: 0.7455 - val_loss: 4.4721 - val_accuracy: 0.3604 - lr: 1.0000e-04\n",
      "Epoch 37/100\n",
      "736/736 [==============================] - 93s 126ms/step - loss: 0.9459 - accuracy: 0.7489 - val_loss: 4.4801 - val_accuracy: 0.3475 - lr: 1.0000e-05\n",
      "Epoch 38/100\n",
      "736/736 [==============================] - 107s 145ms/step - loss: 0.9424 - accuracy: 0.7492 - val_loss: 4.4419 - val_accuracy: 0.3600 - lr: 1.0000e-05\n",
      "Epoch 39/100\n",
      "736/736 [==============================] - 112s 153ms/step - loss: 0.9295 - accuracy: 0.7559 - val_loss: 4.4257 - val_accuracy: 0.3612 - lr: 1.0000e-05\n",
      "Epoch 40/100\n",
      "736/736 [==============================] - 120s 163ms/step - loss: 0.9374 - accuracy: 0.7493 - val_loss: 4.4821 - val_accuracy: 0.3550 - lr: 1.0000e-05\n",
      "Epoch 41/100\n",
      "736/736 [==============================] - 119s 162ms/step - loss: 0.9328 - accuracy: 0.7510 - val_loss: 4.4323 - val_accuracy: 0.3597 - lr: 1.0000e-05\n",
      "Epoch 42/100\n",
      "736/736 [==============================] - 113s 153ms/step - loss: 0.9378 - accuracy: 0.7533 - val_loss: 4.4640 - val_accuracy: 0.3585 - lr: 1.0000e-06\n",
      "Epoch 43/100\n",
      "736/736 [==============================] - 113s 153ms/step - loss: 0.9388 - accuracy: 0.7523 - val_loss: 4.4655 - val_accuracy: 0.3538 - lr: 1.0000e-06\n",
      "Epoch 44/100\n",
      "736/736 [==============================] - 93s 127ms/step - loss: 0.9281 - accuracy: 0.7527 - val_loss: 4.4136 - val_accuracy: 0.3604 - lr: 1.0000e-06\n",
      "Epoch 45/100\n",
      "736/736 [==============================] - 93s 127ms/step - loss: 0.9414 - accuracy: 0.7505 - val_loss: 4.4517 - val_accuracy: 0.3640 - lr: 1.0000e-06\n",
      "Epoch 46/100\n",
      "736/736 [==============================] - 93s 127ms/step - loss: 0.9346 - accuracy: 0.7533 - val_loss: 4.5064 - val_accuracy: 0.3581 - lr: 1.0000e-06\n"
     ]
    },
    {
     "data": {
      "image/png": "[encoded data removed]",
      "text/plain": [
       "<Figure size 1080x720 with 2 Axes>"
      ]
     },
     "metadata": {
      "needs_background": "light"
     },
     "output_type": "display_data"
    }
   ],
   "source": [
    "\n",
    "\n",
    "\n",
    "1\n"
   ]
  },
  {
   "cell_type": "code",
   "execution_count": null,
   "metadata": {},
   "outputs": [],
   "source": [
    "\n",
    "\n",
    "model = model_generator(MobileNetV2,10,IMG_SIZE)\n",
    "train_data,validation_data=image_preprocess(train_dir,IMG_SIZE)\n",
    "model.summary()\n",
    "model_name = \"MobileNetV2\"\n",
    "model_learning(model,model_name,train_data,validation_data)\n"
   ]
  },
  {
   "cell_type": "code",
   "execution_count": null,
   "metadata": {},
   "outputs": [],
   "source": [
    "model = model_generator(DenseNet121,10,IMG_SIZE)\n",
    "train_data,validation_data=image_preprocess(train_dir,IMG_SIZE)\n",
    "model.summary()\n",
    "model_name = \"DenseNet121\"\n",
    "model_learning(model,model_name,train_data,validation_data)"
   ]
  },
  {
   "cell_type": "code",
   "execution_count": null,
   "metadata": {},
   "outputs": [],
   "source": [
    "model = model_generator(DenseNet201,10,IMG_SIZE)\n",
    "train_data,validation_data=image_preprocess(train_dir,IMG_SIZE)\n",
    "model.summary()\n",
    "model_name = \"DenseNet201\"\n",
    "model_learning(model,model_name,train_data,validation_data)"
   ]
  },
  {
   "cell_type": "code",
   "execution_count": null,
   "metadata": {},
   "outputs": [],
   "source": [
    "model = model_generator(NASNetMobile,10,IMG_SIZE)\n",
    "train_data,validation_data=image_preprocess(train_dir,IMG_SIZE)\n",
    "model.summary()\n",
    "model_name = \"NASNetMobile\"\n",
    "model_learning(model,model_name,train_data,validation_data)"
   ]
  },
  {
   "cell_type": "code",
   "execution_count": null,
   "metadata": {},
   "outputs": [],
   "source": [
    "model = model_generator(EfficientNetB0,10,IMG_SIZE)\n",
    "train_data,validation_data=image_preprocess(train_dir,IMG_SIZE)\n",
    "model.summary()\n",
    "model_name = \"EfficientNetB0\"\n",
    "model_learning(model,model_name,train_data,validation_data)"
   ]
  },
  {
   "cell_type": "code",
   "execution_count": null,
   "metadata": {},
   "outputs": [],
   "source": [
    "model = model_generator(EfficientNetB1,10,IMG_SIZE)\n",
    "train_data,validation_data=image_preprocess(train_dir,IMG_SIZE)\n",
    "model.summary()\n",
    "model_name = \"EfficientNetB1\"\n",
    "model_learning(model,model_name,train_data,validation_data)"
   ]
  },
  {
   "cell_type": "code",
   "execution_count": null,
   "metadata": {},
   "outputs": [],
   "source": [
    "model = model_generator(EfficientNetB2,10,IMG_SIZE)\n",
    "train_data,validation_data=image_preprocess(train_dir,IMG_SIZE)\n",
    "model.summary()\n",
    "model_name = \"EfficientNetB2\"\n",
    "model_learning(model,model_name,train_data,validation_data)"
   ]
  },
  {
   "cell_type": "code",
   "execution_count": null,
   "metadata": {},
   "outputs": [],
   "source": [
    "model = model_generator(EfficientNetB3,10,IMG_SIZE)\n",
    "train_data,validation_data=image_preprocess(train_dir,IMG_SIZE)\n",
    "model.summary()\n",
    "model_name = \"EfficientNetB3\"\n",
    "model_learning(model,model_name,train_data,validation_data)"
   ]
  },
  {
   "cell_type": "code",
   "execution_count": null,
   "metadata": {},
   "outputs": [],
   "source": [
    "model = model_generator(EfficientNetB4,10,IMG_SIZE)\n",
    "train_data,validation_data=image_preprocess(train_dir,IMG_SIZE)\n",
    "model.summary()\n",
    "model_name = \"EfficientNetB4\"\n",
    "model_learning(model,model_name,train_data,validation_data)"
   ]
  },
  {
   "cell_type": "code",
   "execution_count": null,
   "metadata": {},
   "outputs": [],
   "source": [
    "model = model_generator(EfficientNetB5,10,IMG_SIZE)\n",
    "train_data,validation_data=image_preprocess(train_dir,IMG_SIZE)\n",
    "model.summary()\n",
    "model_name = \"EfficientNetB5\"\n",
    "model_learning(model,model_name,train_data,validation_data)"
   ]
  },
  {
   "cell_type": "code",
   "execution_count": null,
   "metadata": {},
   "outputs": [],
   "source": [
    "model = model_generator(EfficientNetV2B0,10,IMG_SIZE)\n",
    "train_data,validation_data=image_preprocess(train_dir,IMG_SIZE)\n",
    "model.summary()\n",
    "model_name = \"EfficientNetV2B0\"\n",
    "model_learning(model,model_name,train_data,validation_data)"
   ]
  },
  {
   "cell_type": "code",
   "execution_count": null,
   "metadata": {},
   "outputs": [],
   "source": [
    "model = model_generator(EfficientNetV2B1,10,IMG_SIZE)\n",
    "train_data,validation_data=image_preprocess(train_dir,IMG_SIZE)\n",
    "model.summary()\n",
    "model_name = \"EfficientNetV2B1\"\n",
    "model_learning(model,model_name,train_data,validation_data)"
   ]
  },
  {
   "cell_type": "code",
   "execution_count": null,
   "metadata": {},
   "outputs": [],
   "source": [
    "model = model_generator(EfficientNetV2B2,10,IMG_SIZE)\n",
    "train_data,validation_data=image_preprocess(train_dir,IMG_SIZE)\n",
    "model.summary()\n",
    "model_name = \"EfficientNetV2B2\"\n",
    "model_learning(model,model_name,train_data,validation_data)"
   ]
  },
  {
   "cell_type": "code",
   "execution_count": null,
   "metadata": {},
   "outputs": [],
   "source": [
    "model = model_generator(EfficientNetV2B3,10,IMG_SIZE)\n",
    "train_data,validation_data=image_preprocess(train_dir,IMG_SIZE)\n",
    "model.summary()\n",
    "model_name = \"EfficientNetV2B3\"\n",
    "model_learning(model,model_name,train_data,validation_data)"
   ]
  },
  {
   "cell_type": "code",
   "execution_count": null,
   "metadata": {},
   "outputs": [],
   "source": [
    "model = model_generator(EfficientNetV2S,10,IMG_SIZE)\n",
    "train_data,validation_data=image_preprocess(train_dir,IMG_SIZE)\n",
    "model.summary()\n",
    "model_name = \"EfficientNetV2S\"\n",
    "model_learning(model,model_name,train_data,validation_data)"
   ]
  },
  {
   "cell_type": "code",
   "execution_count": null,
   "metadata": {},
   "outputs": [],
   "source": [
    "model = model_generator(EfficientNetV2M,10,IMG_SIZE)\n",
    "train_data,validation_data=image_preprocess(train_dir,IMG_SIZE)\n",
    "model.summary()\n",
    "model_name = \"EfficientNetV2M\"\n",
    "model_learning(model,model_name,train_data,validation_data)"
   ]
  },
  {
   "cell_type": "code",
   "execution_count": null,
   "metadata": {},
   "outputs": [],
   "source": [
    "model = model_generator(ResNet50V2,10,IMG_SIZE)\n",
    "train_data,validation_data=image_preprocess(train_dir,IMG_SIZE)\n",
    "model.summary()\n",
    "model_name = \"ResNet50V2\"\n",
    "model_learning(model,model_name,train_data,validation_data)"
   ]
  },
  {
   "cell_type": "code",
   "execution_count": null,
   "metadata": {},
   "outputs": [],
   "source": [
    "model = model_generator(ResNet50,10,IMG_SIZE)\n",
    "train_data,validation_data=image_preprocess(train_dir,IMG_SIZE)\n",
    "model.summary()\n",
    "model_name = \"ResNet50\"\n",
    "model_learning(model,model_name,train_data,validation_data)"
   ]
  },
  {
   "cell_type": "code",
   "execution_count": null,
   "metadata": {},
   "outputs": [],
   "source": [
    "model = model_generator(MobileNet,10,IMG_SIZE)\n",
    "train_data,validation_data=image_preprocess(train_dir,IMG_SIZE)\n",
    "model.summary()\n",
    "model_name = \"MobileNet\"\n",
    "model_learning(model,model_name,train_data,validation_data)"
   ]
  },
  {
   "cell_type": "code",
   "execution_count": null,
   "metadata": {},
   "outputs": [],
   "source": [
    "model = model_generator(InceptionV3,10,IMG_SIZE)\n",
    "train_data,validation_data=image_preprocess(train_dir,IMG_SIZE)\n",
    "model.summary()\n",
    "model_name = \"InceptionV3\"\n",
    "model_learning(model,model_name,train_data,validation_data)"
   ]
  }
 ],
 "metadata": {
  "kernelspec": {
   "display_name": "Python 3.9.12 ('project3')",
   "language": "python",
   "name": "python3"
  },
  "language_info": {
   "codemirror_mode": {
    "name": "ipython",
    "version": 3
   },
   "file_extension": ".py",
   "mimetype": "text/x-python",
   "name": "python",
   "nbconvert_exporter": "python",
   "pygments_lexer": "ipython3",
   "version": "3.9.12"
  },
  "orig_nbformat": 4,
  "vscode": {
   "interpreter": {
    "hash": "3a9ea19c68bb363d3b824f4fbdd8ecf75880a2bba8748d2b52923f032cca6643"
   }
  }
 },
 "nbformat": 4,
 "nbformat_minor": 2
}
