{
 "cells": [
  {
   "cell_type": "code",
   "execution_count": 3,
   "metadata": {},
   "outputs": [],
   "source": [
    "#@title Imports\n",
    "import tensorflow as tf\n",
    "#일반화된 문제들에 대해서 모델의 재사용을 극대화 하기위해 구글에서 제공한 API\n",
    "import tensorflow_hub as hub\n",
    "\n",
    "import tensorflow_datasets as tfds\n",
    "\n",
    "import time\n",
    "\n",
    "from PIL import Image\n",
    "import requests\n",
    "from io import BytesIO\n",
    "\n",
    "import matplotlib.pyplot as plt\n",
    "import numpy as np\n",
    "\n",
    "import os\n",
    "import pathlib"
   ]
  },
  {
   "cell_type": "code",
   "execution_count": 4,
   "metadata": {},
   "outputs": [
    {
     "name": "stderr",
     "output_type": "stream",
     "text": [
      "2022-06-14 14:36:30.432723: I tensorflow/core/common_runtime/pluggable_device/pluggable_device_factory.cc:305] Could not identify NUMA node of platform GPU ID 0, defaulting to 0. Your kernel may not have been built with NUMA support.\n",
      "2022-06-14 14:36:30.432974: I tensorflow/core/common_runtime/pluggable_device/pluggable_device_factory.cc:271] Created TensorFlow device (/job:localhost/replica:0/task:0/device:GPU:0 with 0 MB memory) -> physical PluggableDevice (device: 0, name: METAL, pci bus id: <undefined>)\n"
     ]
    },
    {
     "name": "stdout",
     "output_type": "stream",
     "text": [
      "Metal device set to: Apple M1 Pro\n",
      "\n",
      "systemMemory: 16.00 GB\n",
      "maxCacheSize: 5.33 GB\n",
      "\n"
     ]
    }
   ],
   "source": [
    "# Load model into KerasLayer\n",
    "model_url = \"https://tfhub.dev/google/bit/m-r50x1/1\"\n",
    "module = hub.KerasLayer(model_url)"
   ]
  },
  {
   "cell_type": "code",
   "execution_count": 5,
   "metadata": {},
   "outputs": [],
   "source": [
    "#@title Helper functions for loading image (hidden)\n",
    "\n",
    "def preprocess_image(image):\n",
    "  image = np.array(image)\n",
    "  # reshape into shape [batch_size, height, width, num_channels]\n",
    "  img_reshaped = tf.reshape(image, [1, image.shape[0], image.shape[1], image.shape[2]])\n",
    "  # Use `convert_image_dtype` to convert to floats in the [0,1] range.\n",
    "  image = tf.image.convert_image_dtype(img_reshaped, tf.float32)  \n",
    "  return image\n",
    "\n",
    "def load_image_from_url(url):\n",
    "  \"\"\"Returns an image with shape [1, height, width, num_channels].\"\"\"\n",
    "  response = requests.get(url)\n",
    "  image = Image.open(BytesIO(response.content))\n",
    "  image = preprocess_image(image)\n",
    "  return image"
   ]
  },
  {
   "cell_type": "code",
   "execution_count": 6,
   "metadata": {},
   "outputs": [],
   "source": [
    "#@title Plotting helper functions (hidden)\n",
    "#@markdown Credits to Xiaohua Zhai, Lucas Beyer and Alex Kolesnikov from Brain Zurich, Google Research\n",
    "\n",
    "# Show the MAX_PREDS highest scoring labels:\n",
    "MAX_PREDS = 5\n",
    "# Do not show labels with lower score than this:\n",
    "MIN_SCORE = 0.8 \n",
    "\n",
    "def show_preds(logits, image, correct_flowers_label=None, tf_flowers_logits=False):\n",
    "\n",
    "  if len(logits.shape) > 1:\n",
    "    logits = tf.reshape(logits, [-1])\n",
    "\n",
    "  fig, axes = plt.subplots(1, 2, figsize=(7, 4), squeeze=False)\n",
    "\n",
    "  ax1, ax2 = axes[0]\n",
    "\n",
    "  ax1.axis('off')\n",
    "  ax1.imshow(image)\n",
    "  if correct_flowers_label is not None:\n",
    "    ax1.set_title(tf_flowers_labels[correct_flowers_label])\n",
    "  classes = []\n",
    "  scores = []\n",
    "  logits_max = np.max(logits)\n",
    "  softmax_denominator = np.sum(np.exp(logits - logits_max))\n",
    "  for index, j in enumerate(np.argsort(logits)[-MAX_PREDS::][::-1]):\n",
    "    score = 1.0/(1.0 + np.exp(-logits[j]))\n",
    "    if score < MIN_SCORE: break\n",
    "    if not tf_flowers_logits:\n",
    "      # predicting in imagenet label space\n",
    "      classes.append(imagenet_int_to_str[j])\n",
    "    else:\n",
    "      # predicting in tf_flowers label space\n",
    "      classes.append(tf_flowers_labels[j])\n",
    "    scores.append(np.exp(logits[j] - logits_max)/softmax_denominator*100)\n",
    "\n",
    "  ax2.barh(np.arange(len(scores)) + 0.1, scores)\n",
    "  ax2.set_xlim(0, 100)\n",
    "  ax2.set_yticks(np.arange(len(scores)))\n",
    "  ax2.yaxis.set_ticks_position('right')\n",
    "  ax2.set_yticklabels(classes, rotation=0, fontsize=14)\n",
    "  ax2.invert_xaxis()\n",
    "  ax2.invert_yaxis()\n",
    "  ax2.set_xlabel('Prediction probabilities', fontsize=11)"
   ]
  },
  {
   "cell_type": "code",
   "execution_count": 7,
   "metadata": {},
   "outputs": [
    {
     "ename": "NameError",
     "evalue": "name 'imagenet_module' is not defined",
     "output_type": "error",
     "traceback": [
      "\u001b[0;31m---------------------------------------------------------------------------\u001b[0m",
      "\u001b[0;31mNameError\u001b[0m                                 Traceback (most recent call last)",
      "\u001b[0;32m/var/folders/44/6_rc724s369980pjcph8pltr0000gp/T/ipykernel_17429/3418888316.py\u001b[0m in \u001b[0;36m<module>\u001b[0;34m\u001b[0m\n\u001b[1;32m      4\u001b[0m \u001b[0;34m\u001b[0m\u001b[0m\n\u001b[1;32m      5\u001b[0m \u001b[0;31m# Run model on image\u001b[0m\u001b[0;34m\u001b[0m\u001b[0;34m\u001b[0m\u001b[0m\n\u001b[0;32m----> 6\u001b[0;31m \u001b[0mlogits\u001b[0m \u001b[0;34m=\u001b[0m \u001b[0mimagenet_module\u001b[0m\u001b[0;34m(\u001b[0m\u001b[0mimage\u001b[0m\u001b[0;34m)\u001b[0m\u001b[0;34m\u001b[0m\u001b[0;34m\u001b[0m\u001b[0m\n\u001b[0m\u001b[1;32m      7\u001b[0m \u001b[0;34m\u001b[0m\u001b[0m\n\u001b[1;32m      8\u001b[0m \u001b[0;31m# Show image and predictions\u001b[0m\u001b[0;34m\u001b[0m\u001b[0;34m\u001b[0m\u001b[0m\n",
      "\u001b[0;31mNameError\u001b[0m: name 'imagenet_module' is not defined"
     ]
    }
   ],
   "source": [
    "# Load image (image provided is CC0 licensed)\n",
    "img_url = \"https://p0.pikrepo.com/preview/853/907/close-up-photo-of-gray-elephant.jpg\"\n",
    "image = load_image_from_url(img_url)\n",
    "\n",
    "# Run model on image\n",
    "logits = imagenet_module(image)\n",
    "\n",
    "# Show image and predictions\n",
    "show_preds(logits, image[0])"
   ]
  }
 ],
 "metadata": {
  "interpreter": {
   "hash": "d5ebc6cf6f7fb120347a232b371902f436be28b211613027002426b5b4c265db"
  },
  "kernelspec": {
   "display_name": "Python 3.9.7 ('tensor-mac')",
   "language": "python",
   "name": "python3"
  },
  "language_info": {
   "codemirror_mode": {
    "name": "ipython",
    "version": 3
   },
   "file_extension": ".py",
   "mimetype": "text/x-python",
   "name": "python",
   "nbconvert_exporter": "python",
   "pygments_lexer": "ipython3",
   "version": "3.9.13"
  },
  "orig_nbformat": 4
 },
 "nbformat": 4,
 "nbformat_minor": 2
}
