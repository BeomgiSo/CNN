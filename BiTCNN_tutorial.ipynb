{
 "cells": [
  {
   "cell_type": "code",
   "execution_count": 38,
   "metadata": {},
   "outputs": [],
   "source": [
    "#@title Imports\n",
    "import tensorflow as tf\n",
    "import tensorflow_hub as hub\n",
    "\n",
    "import tensorflow_datasets as tfds\n",
    "\n",
    "import time\n",
    "\n",
    "from PIL import Image\n",
    "import requests\n",
    "from io import BytesIO\n",
    "\n",
    "import matplotlib.pyplot as plt\n",
    "import numpy as np\n",
    "\n",
    "import os\n",
    "import pathlib\n",
    "\n",
    "import wandb\n",
    "from wandb.keras import WandbCallback"
   ]
  },
  {
   "cell_type": "code",
   "execution_count": 39,
   "metadata": {},
   "outputs": [
    {
     "data": {
      "text/html": [
       "Finishing last run (ID:151o49k3) before initializing another..."
      ],
      "text/plain": [
       "<IPython.core.display.HTML object>"
      ]
     },
     "metadata": {},
     "output_type": "display_data"
    },
    {
     "data": {
      "text/html": [
       "Waiting for W&B process to finish... <strong style=\"color:green\">(success).</strong>"
      ],
      "text/plain": [
       "<IPython.core.display.HTML object>"
      ]
     },
     "metadata": {},
     "output_type": "display_data"
    },
    {
     "data": {
      "application/vnd.jupyter.widget-view+json": {
       "model_id": "24a0d4cad1f4419493452a2a6bb52e1c",
       "version_major": 2,
       "version_minor": 0
      },
      "text/plain": [
       "VBox(children=(Label(value='0.001 MB of 0.001 MB uploaded (0.000 MB deduped)\\r'), FloatProgress(value=1.0, max…"
      ]
     },
     "metadata": {},
     "output_type": "display_data"
    },
    {
     "data": {
      "text/html": [
       "Synced <strong style=\"color:#cdcd00\">elated-lion-2</strong>: <a href=\"https://wandb.ai/beomgiso/CNN/runs/151o49k3\" target=\"_blank\">https://wandb.ai/beomgiso/CNN/runs/151o49k3</a><br/>Synced 5 W&B file(s), 0 media file(s), 0 artifact file(s) and 0 other file(s)"
      ],
      "text/plain": [
       "<IPython.core.display.HTML object>"
      ]
     },
     "metadata": {},
     "output_type": "display_data"
    },
    {
     "data": {
      "text/html": [
       "Find logs at: <code>./wandb/run-20220614_183602-151o49k3/logs</code>"
      ],
      "text/plain": [
       "<IPython.core.display.HTML object>"
      ]
     },
     "metadata": {},
     "output_type": "display_data"
    },
    {
     "data": {
      "text/html": [
       "Successfully finished last run (ID:151o49k3). Initializing new run:<br/>"
      ],
      "text/plain": [
       "<IPython.core.display.HTML object>"
      ]
     },
     "metadata": {},
     "output_type": "display_data"
    },
    {
     "data": {
      "text/html": [
       "Tracking run with wandb version 0.12.18"
      ],
      "text/plain": [
       "<IPython.core.display.HTML object>"
      ]
     },
     "metadata": {},
     "output_type": "display_data"
    },
    {
     "data": {
      "text/html": [
       "Run data is saved locally in <code>/Users/ramg/Desktop/project3_CNN/CNN/wandb/run-20220614_183643-39i8ewqg</code>"
      ],
      "text/plain": [
       "<IPython.core.display.HTML object>"
      ]
     },
     "metadata": {},
     "output_type": "display_data"
    },
    {
     "data": {
      "text/html": [
       "Syncing run <strong><a href=\"https://wandb.ai/beomgiso/BiT%20Finetuning%20tutorial/runs/39i8ewqg\" target=\"_blank\">usual-fog-1</a></strong> to <a href=\"https://wandb.ai/beomgiso/BiT%20Finetuning%20tutorial\" target=\"_blank\">Weights & Biases</a> (<a href=\"https://wandb.me/run\" target=\"_blank\">docs</a>)<br/>"
      ],
      "text/plain": [
       "<IPython.core.display.HTML object>"
      ]
     },
     "metadata": {},
     "output_type": "display_data"
    },
    {
     "data": {
      "text/html": [
       "<button onClick=\"this.nextSibling.style.display='block';this.style.display='none';\">Display W&B run</button><iframe src=\"https://wandb.ai/beomgiso/BiT%20Finetuning%20tutorial/runs/39i8ewqg?jupyter=true\" style=\"border:none;width:100%;height:420px;display:none;\"></iframe>"
      ],
      "text/plain": [
       "<wandb.sdk.wandb_run.Run at 0x290e5d100>"
      ]
     },
     "execution_count": 39,
     "metadata": {},
     "output_type": "execute_result"
    }
   ],
   "source": [
    "wandb.init(project=\"BiT Finetuning tutorial\")"
   ]
  },
  {
   "cell_type": "code",
   "execution_count": 40,
   "metadata": {},
   "outputs": [
    {
     "name": "stderr",
     "output_type": "stream",
     "text": [
      "\u001b[34m\u001b[1mwandb\u001b[0m: \u001b[33mWARNING\u001b[0m Calling wandb.login() after wandb.init() has no effect.\n"
     ]
    },
    {
     "data": {
      "text/plain": [
       "True"
      ]
     },
     "execution_count": 40,
     "metadata": {},
     "output_type": "execute_result"
    }
   ],
   "source": [
    "wandb.login()"
   ]
  },
  {
   "cell_type": "code",
   "execution_count": 2,
   "metadata": {},
   "outputs": [],
   "source": [
    "#@title tf_flowers label names (hidden)\n",
    "tf_flowers_labels = ['dandelion', 'daisy', 'tulips', 'sunflowers', 'roses']"
   ]
  },
  {
   "cell_type": "code",
   "execution_count": 3,
   "metadata": {},
   "outputs": [
    {
     "name": "stdout",
     "output_type": "stream",
     "text": [
      "Metal device set to: Apple M1 Pro\n",
      "\n",
      "systemMemory: 16.00 GB\n",
      "maxCacheSize: 5.33 GB\n",
      "\n"
     ]
    },
    {
     "name": "stderr",
     "output_type": "stream",
     "text": [
      "2022-06-14 16:50:30.427336: I tensorflow/core/common_runtime/pluggable_device/pluggable_device_factory.cc:305] Could not identify NUMA node of platform GPU ID 0, defaulting to 0. Your kernel may not have been built with NUMA support.\n",
      "2022-06-14 16:50:30.427467: I tensorflow/core/common_runtime/pluggable_device/pluggable_device_factory.cc:271] Created TensorFlow device (/job:localhost/replica:0/task:0/device:GPU:0 with 0 MB memory) -> physical PluggableDevice (device: 0, name: METAL, pci bus id: <undefined>)\n"
     ]
    }
   ],
   "source": [
    "# Load model into KerasLayer\n",
    "model_url = \"https://tfhub.dev/google/bit/m-r50x1/1\"\n",
    "module = hub.KerasLayer(model_url)"
   ]
  },
  {
   "cell_type": "code",
   "execution_count": 33,
   "metadata": {},
   "outputs": [
    {
     "data": {
      "text/plain": [
       "<tensorflow_hub.keras_layer.KerasLayer at 0x1050c6100>"
      ]
     },
     "execution_count": 33,
     "metadata": {},
     "output_type": "execute_result"
    }
   ],
   "source": [
    "module"
   ]
  },
  {
   "cell_type": "code",
   "execution_count": 4,
   "metadata": {},
   "outputs": [],
   "source": [
    "## Data preprocess\n",
    "#@title Helper functions for loading image (hidden)\n",
    "\n",
    "def preprocess_image(image):\n",
    "  image = np.array(image)\n",
    "  # reshape into shape [batch_size, height, width, num_channels]\n",
    "  img_reshaped = tf.reshape(image, [1, image.shape[0], image.shape[1], image.shape[2]])\n",
    "  # Use `convert_image_dtype` to convert to floats in the [0,1] range.\n",
    "  image = tf.image.convert_image_dtype(img_reshaped, tf.float32)  \n",
    "  return image\n",
    "\n",
    "def load_image_from_url(url):\n",
    "  \"\"\"Returns an image with shape [1, height, width, num_channels].\"\"\"\n",
    "  response = requests.get(url)\n",
    "  image = Image.open(BytesIO(response.content))\n",
    "  image = preprocess_image(image)\n",
    "  return image\n",
    "\n",
    "\n",
    "\n",
    "\n",
    "#@title Plotting helper functions (hidden)\n",
    "#@markdown Credits to Xiaohua Zhai, Lucas Beyer and Alex Kolesnikov from Brain Zurich, Google Research\n",
    "\n",
    "# Show the MAX_PREDS highest scoring labels:\n",
    "MAX_PREDS = 5\n",
    "# Do not show labels with lower score than this:\n",
    "MIN_SCORE = 0.8 \n",
    "\n",
    "def show_preds(logits, image, correct_flowers_label=None, tf_flowers_logits=False):\n",
    "\n",
    "  if len(logits.shape) > 1:\n",
    "    logits = tf.reshape(logits, [-1])\n",
    "\n",
    "  fig, axes = plt.subplots(1, 2, figsize=(7, 4), squeeze=False)\n",
    "\n",
    "  ax1, ax2 = axes[0]\n",
    "\n",
    "  ax1.axis('off')\n",
    "  ax1.imshow(image)\n",
    "  if correct_flowers_label is not None:\n",
    "    ax1.set_title(tf_flowers_labels[correct_flowers_label])\n",
    "  classes = []\n",
    "  scores = []\n",
    "  logits_max = np.max(logits)\n",
    "  softmax_denominator = np.sum(np.exp(logits - logits_max))\n",
    "  for index, j in enumerate(np.argsort(logits)[-MAX_PREDS::][::-1]):\n",
    "    score = 1.0/(1.0 + np.exp(-logits[j]))\n",
    "    if score < MIN_SCORE: break\n",
    "    if not tf_flowers_logits:\n",
    "      # predicting in imagenet label space\n",
    "      classes.append(imagenet_int_to_str[j])\n",
    "    else:\n",
    "      # predicting in tf_flowers label space\n",
    "      classes.append(tf_flowers_labels[j])\n",
    "    scores.append(np.exp(logits[j] - logits_max)/softmax_denominator*100)\n",
    "\n",
    "  ax2.barh(np.arange(len(scores)) + 0.1, scores)\n",
    "  ax2.set_xlim(0, 100)\n",
    "  ax2.set_yticks(np.arange(len(scores)))\n",
    "  ax2.yaxis.set_ticks_position('right')\n",
    "  ax2.set_yticklabels(classes, rotation=0, fontsize=14)\n",
    "  ax2.invert_xaxis()\n",
    "  ax2.invert_yaxis()\n",
    "  ax2.set_xlabel('Prediction probabilities', fontsize=11)"
   ]
  },
  {
   "cell_type": "code",
   "execution_count": 5,
   "metadata": {},
   "outputs": [
    {
     "name": "stderr",
     "output_type": "stream",
     "text": [
      "2022-06-14 16:51:52.682760: W tensorflow/core/platform/cloud/google_auth_provider.cc:184] All attempts to get a Google authentication bearer token failed, returning an empty token. Retrieving token from files failed with \"NOT_FOUND: Could not locate the credentials file.\". Retrieving token from GCE failed with \"FAILED_PRECONDITION: Error executing an HTTP request: libcurl code 6 meaning 'Couldn't resolve host name', error details: Could not resolve host: metadata\".\n"
     ]
    },
    {
     "name": "stdout",
     "output_type": "stream",
     "text": [
      "\u001b[1mDownloading and preparing dataset 218.21 MiB (download: 218.21 MiB, generated: 221.83 MiB, total: 440.05 MiB) to /Users/ramg/tensorflow_datasets/tf_flowers/3.0.1...\u001b[0m\n"
     ]
    },
    {
     "data": {
      "application/vnd.jupyter.widget-view+json": {
       "model_id": "66fb2a2ef2dc4c5eb0c1cc90f49da85a",
       "version_major": 2,
       "version_minor": 0
      },
      "text/plain": [
       "Dl Completed...:   0%|          | 0/5 [00:00<?, ? file/s]"
      ]
     },
     "metadata": {},
     "output_type": "display_data"
    },
    {
     "name": "stdout",
     "output_type": "stream",
     "text": [
      "\n",
      "\u001b[1mDataset tf_flowers downloaded and prepared to /Users/ramg/tensorflow_datasets/tf_flowers/3.0.1. Subsequent calls will reuse this data.\u001b[0m\n"
     ]
    }
   ],
   "source": [
    "# Import tf_flowers data from tfds\n",
    "\n",
    "dataset_name = 'tf_flowers'\n",
    "ds, info = tfds.load(name=dataset_name, split=['train'], with_info=True)\n",
    "ds = ds[0]\n",
    "num_examples = info.splits['train'].num_examples\n",
    "NUM_CLASSES = 5"
   ]
  },
  {
   "cell_type": "code",
   "execution_count": 6,
   "metadata": {},
   "outputs": [
    {
     "name": "stdout",
     "output_type": "stream",
     "text": [
      "Downloading data from https://storage.googleapis.com/download.tensorflow.org/example_images/flower_photos.tgz\n",
      "228818944/228813984 [==============================] - 20s 0us/step\n",
      "228827136/228813984 [==============================] - 20s 0us/step\n"
     ]
    }
   ],
   "source": [
    "#@title Alternative code for loading a dataset\n",
    "#@markdown We provide alternative code for loading `tf_flowers` from an URL in this cell to make it easy for you to try loading your own datasets. \n",
    "\n",
    "#@markdown This code is commented out by default and replaces the cell immediately above. Note that using this option may result in a different example image below.\n",
    "\n",
    "data_dir = tf.keras.utils.get_file(origin='https://storage.googleapis.com/download.tensorflow.org/example_images/flower_photos.tgz',\n",
    "                                         fname='flower_photos', untar=True)\n",
    "data_dir = pathlib.Path(data_dir)\n",
    "\n",
    "IMG_HEIGHT = 224\n",
    "IMG_WIDTH = 224\n",
    "\n",
    "CLASS_NAMES = tf_flowers_labels  # from plotting helper functions above\n",
    "NUM_CLASSES = len(CLASS_NAMES)\n",
    "num_examples = len(list(data_dir.glob('*/*.jpg')))\n",
    "\n",
    "def get_label(file_path):\n",
    "  # convert the path to a list of path components\n",
    "  parts = tf.strings.split(file_path, os.path.sep)\n",
    "  # The second to last is the class-directory\n",
    "  \n",
    "  return tf.where(parts[-2] == CLASS_NAMES)[0][0]\n",
    "\n",
    "def decode_img(img):\n",
    "  # convert the compressed string to a 3D uint8 tensor\n",
    "  img = tf.image.decode_jpeg(img, channels=3)\n",
    "  return img  \n",
    "\n",
    "def process_path(file_path):\n",
    "  label = get_label(file_path)\n",
    "  # load the raw data from the file as a string\n",
    "  img = tf.io.read_file(file_path)\n",
    "  img = decode_img(img)\n",
    "  features = {'image': img, 'label': label}\n",
    "  return features\n",
    "\n",
    "list_ds = tf.data.Dataset.list_files(str(data_dir/'*/*'))\n",
    "ds = list_ds.map(process_path, num_parallel_calls=tf.data.experimental.AUTOTUNE)\n"
   ]
  },
  {
   "cell_type": "code",
   "execution_count": 7,
   "metadata": {},
   "outputs": [
    {
     "data": {
      "text/plain": [
       "PosixPath('/Users/ramg/.keras/datasets/flower_photos')"
      ]
     },
     "execution_count": 7,
     "metadata": {},
     "output_type": "execute_result"
    }
   ],
   "source": [
    "data_dir"
   ]
  },
  {
   "cell_type": "code",
   "execution_count": 13,
   "metadata": {},
   "outputs": [
    {
     "name": "stdout",
     "output_type": "stream",
     "text": [
      "<class 'tensorflow.python.data.ops.dataset_ops.ShuffleDataset'>\n"
     ]
    }
   ],
   "source": [
    "print(type(list_ds))"
   ]
  },
  {
   "cell_type": "code",
   "execution_count": 14,
   "metadata": {},
   "outputs": [
    {
     "data": {
      "text/plain": [
       "<ParallelMapDataset shapes: {image: (None, None, 3), label: ()}, types: {image: tf.uint8, label: tf.int64}>"
      ]
     },
     "execution_count": 14,
     "metadata": {},
     "output_type": "execute_result"
    }
   ],
   "source": [
    "ds"
   ]
  },
  {
   "cell_type": "code",
   "execution_count": 15,
   "metadata": {},
   "outputs": [],
   "source": [
    "# Split into train and test sets\n",
    "# We have checked that the classes are reasonably balanced.\n",
    "train_split = 0.9\n",
    "num_train = int(train_split * num_examples)\n",
    "ds_train = ds.take(num_train)\n",
    "ds_test = ds.skip(num_train)\n",
    "\n",
    "DATASET_NUM_TRAIN_EXAMPLES = num_examples"
   ]
  },
  {
   "cell_type": "code",
   "execution_count": 18,
   "metadata": {},
   "outputs": [
    {
     "name": "stderr",
     "output_type": "stream",
     "text": [
      "2022-06-14 17:02:02.657330: W tensorflow/core/platform/profile_utils/cpu_utils.cc:128] Failed to get CPU frequency: 0 Hz\n"
     ]
    },
    {
     "ename": "NameError",
     "evalue": "name 'imagenet_module' is not defined",
     "output_type": "error",
     "traceback": [
      "\u001b[0;31m---------------------------------------------------------------------------\u001b[0m",
      "\u001b[0;31mNameError\u001b[0m                                 Traceback (most recent call last)",
      "\u001b[0;32m/var/folders/44/6_rc724s369980pjcph8pltr0000gp/T/ipykernel_2497/2982334995.py\u001b[0m in \u001b[0;36m<module>\u001b[0;34m\u001b[0m\n\u001b[1;32m      4\u001b[0m \u001b[0;34m\u001b[0m\u001b[0m\n\u001b[1;32m      5\u001b[0m     \u001b[0;31m# Run model on image\u001b[0m\u001b[0;34m\u001b[0m\u001b[0;34m\u001b[0m\u001b[0m\n\u001b[0;32m----> 6\u001b[0;31m     \u001b[0mlogits\u001b[0m \u001b[0;34m=\u001b[0m \u001b[0mimagenet_module\u001b[0m\u001b[0;34m(\u001b[0m\u001b[0mimage\u001b[0m\u001b[0;34m)\u001b[0m\u001b[0;34m\u001b[0m\u001b[0;34m\u001b[0m\u001b[0m\n\u001b[0m\u001b[1;32m      7\u001b[0m \u001b[0;34m\u001b[0m\u001b[0m\n\u001b[1;32m      8\u001b[0m     \u001b[0;31m# Show image and predictions\u001b[0m\u001b[0;34m\u001b[0m\u001b[0;34m\u001b[0m\u001b[0m\n",
      "\u001b[0;31mNameError\u001b[0m: name 'imagenet_module' is not defined"
     ]
    }
   ],
   "source": [
    "for features in ds_train.take(1):\n",
    "    image = features['image']\n",
    "    image = preprocess_image(image)\n",
    "\n",
    "    # Run model on image\n",
    "    logits = imagenet_module(image)\n",
    "    \n",
    "    # Show image and predictions\n",
    "    show_preds(logits, image[0], correct_flowers_label=features['label'].numpy())"
   ]
  },
  {
   "cell_type": "code",
   "execution_count": 19,
   "metadata": {},
   "outputs": [
    {
     "data": {
      "text/plain": [
       "5"
      ]
     },
     "execution_count": 19,
     "metadata": {},
     "output_type": "execute_result"
    }
   ],
   "source": [
    "NUM_CLASSES"
   ]
  },
  {
   "cell_type": "code",
   "execution_count": 20,
   "metadata": {},
   "outputs": [],
   "source": [
    "\n",
    "# Add new head to the BiT model\n",
    "\n",
    "class MyBiTModel(tf.keras.Model):\n",
    "  \"\"\"BiT with a new head.\"\"\"\n",
    "\n",
    "  def __init__(self, num_classes, module):\n",
    "    super().__init__()\n",
    "\n",
    "    self.num_classes = num_classes\n",
    "    self.head = tf.keras.layers.Dense(num_classes, kernel_initializer='zeros')\n",
    "    self.bit_model = module\n",
    "  \n",
    "  def call(self, images):\n",
    "    # No need to cut head off since we are using feature extractor model\n",
    "    bit_embedding = self.bit_model(images)\n",
    "    return self.head(bit_embedding)\n",
    "\n",
    "model = MyBiTModel(num_classes=NUM_CLASSES, module=module)"
   ]
  },
  {
   "cell_type": "code",
   "execution_count": 21,
   "metadata": {},
   "outputs": [],
   "source": [
    "#@title Set dataset-dependent hyperparameters\n",
    "\n",
    "#@markdown Here we set dataset-dependent hyperparameters. For example, our dataset of flowers has 3670 images of varying size (a few hundred x a few hundred pixels), so the image size is larger than 96x96 and the dataset size is <20k examples. However, for speed reasons (since this is a tutorial and we are training on a single GPU), we will select the `<96x96 px` option and train on lower resolution images. As we will see, we can still attain strong results.\n",
    "\n",
    "#@markdown **Algorithm details: how are the hyperparameters dataset-dependent?** \n",
    "\n",
    "#@markdown It's quite intuitive - we resize images to a smaller fixed size if they are smaller than 96 x 96px and to a larger fixed size otherwise. The number of steps we fine-tune for is larger for larger datasets. \n",
    "\n",
    "IMAGE_SIZE = \"=\\u003C96x96 px\" #@param [\"=<96x96 px\",\"> 96 x 96 px\"]\n",
    "DATASET_SIZE = \"\\u003C20k examples\" #@param [\"<20k examples\", \"20k-500k examples\", \">500k examples\"]\n",
    "\n",
    "if IMAGE_SIZE == \"=<96x96 px\":\n",
    "  RESIZE_TO = 160\n",
    "  CROP_TO = 128\n",
    "else:\n",
    "  RESIZE_TO = 512\n",
    "  CROP_TO = 480\n",
    "\n",
    "if DATASET_SIZE == \"<20k examples\":\n",
    "  SCHEDULE_LENGTH = 500\n",
    "  SCHEDULE_BOUNDARIES = [200, 300, 400]\n",
    "elif DATASET_SIZE == \"20k-500k examples\":\n",
    "  SCHEDULE_LENGTH = 10000\n",
    "  SCHEDULE_BOUNDARIES = [3000, 6000, 9000]\n",
    "else:\n",
    "  SCHEDULE_LENGTH = 20000\n",
    "  SCHEDULE_BOUNDARIES = [6000, 12000, 18000]"
   ]
  },
  {
   "cell_type": "code",
   "execution_count": 22,
   "metadata": {},
   "outputs": [],
   "source": [
    "# Preprocessing helper functions\n",
    "\n",
    "# Create data pipelines for training and testing:\n",
    "BATCH_SIZE = 512\n",
    "SCHEDULE_LENGTH = SCHEDULE_LENGTH * 512 / BATCH_SIZE\n",
    "\n",
    "STEPS_PER_EPOCH = 10\n",
    "\n",
    "def cast_to_tuple(features):\n",
    "  return (features['image'], features['label'])\n",
    "  \n",
    "def preprocess_train(features):\n",
    "  # Apply random crops and horizontal flips for all tasks \n",
    "  # except those for which cropping or flipping destroys the label semantics\n",
    "  # (e.g. predict orientation of an object)\n",
    "  features['image'] = tf.image.random_flip_left_right(features['image'])\n",
    "  features['image'] = tf.image.resize(features['image'], [RESIZE_TO, RESIZE_TO])\n",
    "  features['image'] = tf.image.random_crop(features['image'], [CROP_TO, CROP_TO, 3])\n",
    "  features['image'] = tf.cast(features['image'], tf.float32) / 255.0\n",
    "  return features\n",
    "\n",
    "def preprocess_test(features):\n",
    "  features['image'] = tf.image.resize(features['image'], [RESIZE_TO, RESIZE_TO])\n",
    "  features['image'] = tf.cast(features['image'], tf.float32) / 255.0\n",
    "  return features\n",
    "\n",
    "pipeline_train = (ds_train\n",
    "                  .shuffle(10000)\n",
    "                  .repeat(int(SCHEDULE_LENGTH * BATCH_SIZE / DATASET_NUM_TRAIN_EXAMPLES * STEPS_PER_EPOCH) + 1 + 50)  # repeat dataset_size / num_steps\n",
    "                  .map(preprocess_train, num_parallel_calls=8)\n",
    "                  .batch(BATCH_SIZE)\n",
    "                  .map(cast_to_tuple)  # for keras model.fit\n",
    "                  .prefetch(2))\n",
    "\n",
    "pipeline_test = (ds_test.map(preprocess_test, num_parallel_calls=1)\n",
    "                  .map(cast_to_tuple)  # for keras model.fit\n",
    "                  .batch(BATCH_SIZE)\n",
    "                  .prefetch(2))"
   ]
  },
  {
   "cell_type": "code",
   "execution_count": 23,
   "metadata": {},
   "outputs": [],
   "source": [
    "# Define optimiser and loss\n",
    "\n",
    "lr = 0.003 * BATCH_SIZE / 512 \n",
    "\n",
    "# Decay learning rate by a factor of 10 at SCHEDULE_BOUNDARIES.\n",
    "lr_schedule = tf.keras.optimizers.schedules.PiecewiseConstantDecay(boundaries=SCHEDULE_BOUNDARIES, \n",
    "                                                                   values=[lr, lr*0.1, lr*0.001, lr*0.0001])\n",
    "optimizer = tf.keras.optimizers.SGD(learning_rate=lr_schedule, momentum=0.9)\n",
    "\n",
    "loss_fn = tf.keras.losses.SparseCategoricalCrossentropy(from_logits=True)"
   ]
  },
  {
   "cell_type": "code",
   "execution_count": 24,
   "metadata": {},
   "outputs": [
    {
     "name": "stdout",
     "output_type": "stream",
     "text": [
      "Epoch 1/50\n"
     ]
    },
    {
     "name": "stderr",
     "output_type": "stream",
     "text": [
      "2022-06-14 17:03:53.568745: I tensorflow/core/grappler/optimizers/custom_graph_optimizer_registry.cc:112] Plugin optimizer for device_type GPU is enabled.\n"
     ]
    },
    {
     "name": "stdout",
     "output_type": "stream",
     "text": [
      "10/10 [==============================] - ETA: 0s - loss: 0.3980 - accuracy: 0.8521"
     ]
    },
    {
     "name": "stderr",
     "output_type": "stream",
     "text": [
      "2022-06-14 17:04:31.498405: I tensorflow/core/grappler/optimizers/custom_graph_optimizer_registry.cc:112] Plugin optimizer for device_type GPU is enabled.\n"
     ]
    },
    {
     "name": "stdout",
     "output_type": "stream",
     "text": [
      "10/10 [==============================] - 46s 4s/step - loss: 0.3980 - accuracy: 0.8521 - val_loss: 0.1092 - val_accuracy: 0.9673\n",
      "Epoch 2/50\n",
      "10/10 [==============================] - 26s 3s/step - loss: 0.1782 - accuracy: 0.9500 - val_loss: 0.2532 - val_accuracy: 0.9264\n",
      "Epoch 3/50\n",
      "10/10 [==============================] - 26s 3s/step - loss: 0.1579 - accuracy: 0.9604 - val_loss: 0.1481 - val_accuracy: 0.9564\n",
      "Epoch 4/50\n",
      "10/10 [==============================] - 23s 2s/step - loss: 0.1416 - accuracy: 0.9615 - val_loss: 0.0376 - val_accuracy: 0.9891\n",
      "Epoch 5/50\n",
      "10/10 [==============================] - 23s 2s/step - loss: 0.1119 - accuracy: 0.9680 - val_loss: 0.0352 - val_accuracy: 0.9864\n",
      "Epoch 6/50\n",
      "10/10 [==============================] - 23s 2s/step - loss: 0.0766 - accuracy: 0.9777 - val_loss: 0.0861 - val_accuracy: 0.9782\n",
      "Epoch 7/50\n",
      "10/10 [==============================] - 24s 2s/step - loss: 0.0676 - accuracy: 0.9781 - val_loss: 0.0738 - val_accuracy: 0.9755\n",
      "Epoch 8/50\n",
      "10/10 [==============================] - 26s 3s/step - loss: 0.0675 - accuracy: 0.9787 - val_loss: 0.0190 - val_accuracy: 0.9946\n",
      "Epoch 9/50\n",
      "10/10 [==============================] - 23s 2s/step - loss: 0.0535 - accuracy: 0.9816 - val_loss: 0.0708 - val_accuracy: 0.9755\n",
      "Epoch 10/50\n",
      "10/10 [==============================] - 24s 2s/step - loss: 0.0450 - accuracy: 0.9863 - val_loss: 0.0511 - val_accuracy: 0.9864\n",
      "Epoch 11/50\n",
      "10/10 [==============================] - 23s 2s/step - loss: 0.0470 - accuracy: 0.9850 - val_loss: 0.0347 - val_accuracy: 0.9918\n",
      "Epoch 12/50\n",
      "10/10 [==============================] - 22s 2s/step - loss: 0.0456 - accuracy: 0.9852 - val_loss: 0.0418 - val_accuracy: 0.9891\n",
      "Epoch 13/50\n",
      "10/10 [==============================] - 22s 2s/step - loss: 0.0394 - accuracy: 0.9869 - val_loss: 0.0117 - val_accuracy: 1.0000\n",
      "Epoch 14/50\n",
      "10/10 [==============================] - 22s 2s/step - loss: 0.0405 - accuracy: 0.9855 - val_loss: 0.0354 - val_accuracy: 0.9837\n",
      "Epoch 15/50\n",
      "10/10 [==============================] - 22s 2s/step - loss: 0.0360 - accuracy: 0.9896 - val_loss: 0.0193 - val_accuracy: 0.9891\n",
      "Epoch 16/50\n",
      "10/10 [==============================] - 23s 2s/step - loss: 0.0311 - accuracy: 0.9910 - val_loss: 0.0188 - val_accuracy: 0.9946\n",
      "Epoch 17/50\n",
      "10/10 [==============================] - 22s 2s/step - loss: 0.0336 - accuracy: 0.9896 - val_loss: 0.0184 - val_accuracy: 0.9946\n",
      "Epoch 18/50\n",
      "10/10 [==============================] - 24s 2s/step - loss: 0.0296 - accuracy: 0.9922 - val_loss: 0.0234 - val_accuracy: 0.9891\n",
      "Epoch 19/50\n",
      "10/10 [==============================] - 24s 2s/step - loss: 0.0314 - accuracy: 0.9902 - val_loss: 0.0108 - val_accuracy: 1.0000\n",
      "Epoch 20/50\n",
      "10/10 [==============================] - 23s 2s/step - loss: 0.0307 - accuracy: 0.9906 - val_loss: 0.0287 - val_accuracy: 0.9946\n",
      "Epoch 21/50\n",
      "10/10 [==============================] - 23s 2s/step - loss: 0.0345 - accuracy: 0.9906 - val_loss: 0.0204 - val_accuracy: 0.9946\n",
      "Epoch 22/50\n",
      "10/10 [==============================] - 23s 2s/step - loss: 0.0316 - accuracy: 0.9902 - val_loss: 0.0410 - val_accuracy: 0.9891\n",
      "Epoch 23/50\n",
      "10/10 [==============================] - 23s 2s/step - loss: 0.0257 - accuracy: 0.9934 - val_loss: 0.0150 - val_accuracy: 0.9946\n",
      "Epoch 24/50\n",
      "10/10 [==============================] - 23s 2s/step - loss: 0.0264 - accuracy: 0.9914 - val_loss: 0.0212 - val_accuracy: 0.9946\n",
      "Epoch 25/50\n",
      "10/10 [==============================] - 23s 2s/step - loss: 0.0251 - accuracy: 0.9928 - val_loss: 0.0168 - val_accuracy: 0.9946\n",
      "Epoch 26/50\n",
      "10/10 [==============================] - 22s 2s/step - loss: 0.0282 - accuracy: 0.9910 - val_loss: 0.0352 - val_accuracy: 0.9891\n",
      "Epoch 27/50\n",
      "10/10 [==============================] - 23s 2s/step - loss: 0.0258 - accuracy: 0.9932 - val_loss: 0.0253 - val_accuracy: 0.9918\n",
      "Epoch 28/50\n",
      "10/10 [==============================] - 24s 2s/step - loss: 0.0252 - accuracy: 0.9939 - val_loss: 0.0281 - val_accuracy: 0.9891\n",
      "Epoch 29/50\n",
      "10/10 [==============================] - 22s 2s/step - loss: 0.0274 - accuracy: 0.9920 - val_loss: 0.0110 - val_accuracy: 1.0000\n",
      "Epoch 30/50\n",
      "10/10 [==============================] - 23s 2s/step - loss: 0.0232 - accuracy: 0.9939 - val_loss: 0.0223 - val_accuracy: 0.9973\n",
      "Epoch 31/50\n",
      "10/10 [==============================] - 23s 2s/step - loss: 0.0265 - accuracy: 0.9926 - val_loss: 0.0118 - val_accuracy: 0.9973\n",
      "Epoch 32/50\n",
      "10/10 [==============================] - 23s 2s/step - loss: 0.0261 - accuracy: 0.9918 - val_loss: 0.0255 - val_accuracy: 0.9891\n",
      "Epoch 33/50\n",
      "10/10 [==============================] - 23s 2s/step - loss: 0.0266 - accuracy: 0.9922 - val_loss: 0.0165 - val_accuracy: 0.9946\n",
      "Epoch 34/50\n",
      "10/10 [==============================] - 22s 2s/step - loss: 0.0252 - accuracy: 0.9932 - val_loss: 0.0144 - val_accuracy: 0.9973\n",
      "Epoch 35/50\n",
      "10/10 [==============================] - 23s 2s/step - loss: 0.0243 - accuracy: 0.9939 - val_loss: 0.0344 - val_accuracy: 0.9891\n",
      "Epoch 36/50\n",
      "10/10 [==============================] - 23s 2s/step - loss: 0.0244 - accuracy: 0.9938 - val_loss: 0.0126 - val_accuracy: 0.9973\n",
      "Epoch 37/50\n",
      "10/10 [==============================] - 22s 2s/step - loss: 0.0256 - accuracy: 0.9932 - val_loss: 0.0117 - val_accuracy: 0.9973\n",
      "Epoch 38/50\n",
      "10/10 [==============================] - 23s 2s/step - loss: 0.0230 - accuracy: 0.9930 - val_loss: 0.0143 - val_accuracy: 0.9973\n",
      "Epoch 39/50\n",
      "10/10 [==============================] - 23s 2s/step - loss: 0.0288 - accuracy: 0.9922 - val_loss: 0.0098 - val_accuracy: 1.0000\n",
      "Epoch 40/50\n",
      "10/10 [==============================] - 23s 2s/step - loss: 0.0223 - accuracy: 0.9934 - val_loss: 0.0342 - val_accuracy: 0.9891\n",
      "Epoch 41/50\n",
      "10/10 [==============================] - 22s 2s/step - loss: 0.0275 - accuracy: 0.9928 - val_loss: 0.0235 - val_accuracy: 0.9891\n",
      "Epoch 42/50\n",
      "10/10 [==============================] - 22s 2s/step - loss: 0.0290 - accuracy: 0.9914 - val_loss: 0.0204 - val_accuracy: 0.9918\n",
      "Epoch 43/50\n",
      "10/10 [==============================] - 22s 2s/step - loss: 0.0241 - accuracy: 0.9938 - val_loss: 0.0138 - val_accuracy: 0.9973\n",
      "Epoch 44/50\n",
      "10/10 [==============================] - 22s 2s/step - loss: 0.0242 - accuracy: 0.9930 - val_loss: 0.0259 - val_accuracy: 0.9891\n",
      "Epoch 45/50\n",
      "10/10 [==============================] - 22s 2s/step - loss: 0.0245 - accuracy: 0.9938 - val_loss: 0.0256 - val_accuracy: 0.9946\n",
      "Epoch 46/50\n",
      "10/10 [==============================] - 22s 2s/step - loss: 0.0238 - accuracy: 0.9930 - val_loss: 0.0308 - val_accuracy: 0.9891\n",
      "Epoch 47/50\n",
      "10/10 [==============================] - 23s 2s/step - loss: 0.0215 - accuracy: 0.9938 - val_loss: 0.0271 - val_accuracy: 0.9918\n",
      "Epoch 48/50\n",
      "10/10 [==============================] - 22s 2s/step - loss: 0.0252 - accuracy: 0.9936 - val_loss: 0.0268 - val_accuracy: 0.9946\n",
      "Epoch 49/50\n",
      "10/10 [==============================] - 22s 2s/step - loss: 0.0217 - accuracy: 0.9947 - val_loss: 0.0216 - val_accuracy: 0.9973\n",
      "Epoch 50/50\n",
      "10/10 [==============================] - 23s 2s/step - loss: 0.0245 - accuracy: 0.9938 - val_loss: 0.0358 - val_accuracy: 0.9918\n"
     ]
    }
   ],
   "source": [
    "model.compile(optimizer=optimizer,\n",
    "              loss=loss_fn,\n",
    "              metrics=['accuracy'])\n",
    "\n",
    "# Fine-tune model\n",
    "history = model.fit(\n",
    "    pipeline_train,\n",
    "    batch_size=BATCH_SIZE,\n",
    "    steps_per_epoch=STEPS_PER_EPOCH,\n",
    "    epochs= int(SCHEDULE_LENGTH / STEPS_PER_EPOCH),  # TODO: replace with `epochs=10` here to shorten fine-tuning for tutorial if you wish\n",
    "    validation_data=pipeline_test  # here we are only using \n",
    "                                   # this data to evaluate our performance\n",
    ")"
   ]
  },
  {
   "cell_type": "code",
   "execution_count": 25,
   "metadata": {},
   "outputs": [
    {
     "name": "stdout",
     "output_type": "stream",
     "text": [
      "Model: \"my_bi_t_model\"\n",
      "_________________________________________________________________\n",
      " Layer (type)                Output Shape              Param #   \n",
      "=================================================================\n",
      " dense (Dense)               multiple                  10245     \n",
      "                                                                 \n",
      " keras_layer (KerasLayer)    multiple                  23500352  \n",
      "                                                                 \n",
      "=================================================================\n",
      "Total params: 23,510,597\n",
      "Trainable params: 10,245\n",
      "Non-trainable params: 23,500,352\n",
      "_________________________________________________________________\n"
     ]
    }
   ],
   "source": [
    "model.summary()"
   ]
  },
  {
   "cell_type": "code",
   "execution_count": 26,
   "metadata": {},
   "outputs": [
    {
     "name": "stderr",
     "output_type": "stream",
     "text": [
      "2022-06-14 17:30:52.154847: W tensorflow/python/util/util.cc:368] Sets are not currently considered sequences, but this may change in the future, so consider avoiding using them.\n"
     ]
    },
    {
     "name": "stdout",
     "output_type": "stream",
     "text": [
      "INFO:tensorflow:Assets written to: /tmp/my_saved_bit_model/assets\n"
     ]
    },
    {
     "name": "stderr",
     "output_type": "stream",
     "text": [
      "INFO:tensorflow:Assets written to: /tmp/my_saved_bit_model/assets\n"
     ]
    }
   ],
   "source": [
    "# Save fine-tuned model as SavedModel\n",
    "export_module_dir = '/tmp/my_saved_bit_model/'\n",
    "tf.saved_model.save(model, export_module_dir)"
   ]
  },
  {
   "cell_type": "code",
   "execution_count": 27,
   "metadata": {},
   "outputs": [
    {
     "data": {
      "text/plain": [
       "'/tmp/my_saved_bit_model/'"
      ]
     },
     "execution_count": 27,
     "metadata": {},
     "output_type": "execute_result"
    }
   ],
   "source": [
    "export_module_dir"
   ]
  },
  {
   "cell_type": "code",
   "execution_count": 28,
   "metadata": {},
   "outputs": [
    {
     "name": "stderr",
     "output_type": "stream",
     "text": [
      "2022-06-14 17:31:40.512589: W tensorflow/core/common_runtime/graph_constructor.cc:803] Node 're_lu_48/PartitionedCall' has 1 outputs but the _output_shapes attribute specifies shapes for 2 outputs. Output shapes may be inaccurate.\n",
      "2022-06-14 17:31:40.512618: W tensorflow/core/common_runtime/graph_constructor.cc:803] Node 'global_average_pooling2d/PartitionedCall' has 1 outputs but the _output_shapes attribute specifies shapes for 4 outputs. Output shapes may be inaccurate.\n"
     ]
    }
   ],
   "source": [
    "# Load saved model\n",
    "saved_module = hub.KerasLayer(export_module_dir, trainable=True)"
   ]
  },
  {
   "cell_type": "code",
   "execution_count": 29,
   "metadata": {},
   "outputs": [
    {
     "name": "stderr",
     "output_type": "stream",
     "text": [
      "2022-06-14 17:31:53.391748: I tensorflow/core/grappler/optimizers/custom_graph_optimizer_registry.cc:112] Plugin optimizer for device_type GPU is enabled.\n"
     ]
    },
    {
     "data": {
      "image/png": "[encoded data removed]",
      "text/plain": [
       "<Figure size 504x288 with 2 Axes>"
      ]
     },
     "metadata": {
      "needs_background": "light"
     },
     "output_type": "display_data"
    }
   ],
   "source": [
    "# Visualise predictions from new model\n",
    "for features in ds_train.take(1):\n",
    "  image = features['image']\n",
    "  image = preprocess_image(image)\n",
    "  image = tf.image.resize(image, [CROP_TO, CROP_TO])\n",
    "\n",
    "  # Run model on image\n",
    "  logits = saved_module(image)\n",
    "  \n",
    "  # Show image and predictions\n",
    "  show_preds(logits, image[0], correct_flowers_label=features['label'].numpy(), tf_flowers_logits=True)"
   ]
  },
  {
   "cell_type": "code",
   "execution_count": 30,
   "metadata": {},
   "outputs": [
    {
     "data": {
      "text/plain": [
       "'/tmp/my_saved_bit_model/'"
      ]
     },
     "execution_count": 30,
     "metadata": {},
     "output_type": "execute_result"
    }
   ],
   "source": [
    "export_module_dir"
   ]
  }
 ],
 "metadata": {
  "interpreter": {
   "hash": "d5ebc6cf6f7fb120347a232b371902f436be28b211613027002426b5b4c265db"
  },
  "kernelspec": {
   "display_name": "Python 3 (ipykernel)",
   "language": "python",
   "name": "python3"
  },
  "language_info": {
   "codemirror_mode": {
    "name": "ipython",
    "version": 3
   },
   "file_extension": ".py",
   "mimetype": "text/x-python",
   "name": "python",
   "nbconvert_exporter": "python",
   "pygments_lexer": "ipython3",
   "version": "3.9.13"
  }
 },
 "nbformat": 4,
 "nbformat_minor": 2
}
