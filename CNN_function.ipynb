{
 "cells": [
  {
   "cell_type": "code",
   "execution_count": 1,
   "metadata": {},
   "outputs": [
    {
     "name": "stdout",
     "output_type": "stream",
     "text": [
      "TF 2.7.0\n"
     ]
    }
   ],
   "source": [
    "import tensorflow as tf\n",
    "print(\"TF\",tf.__version__)\n",
    "\n",
    "import time\n",
    "import numpy as np\n",
    "import matplotlib.pyplot as plt\n",
    "\n",
    "import pathlib\n",
    "import os\n",
    "\n",
    "from tensorflow.keras.preprocessing.image import ImageDataGenerator\n",
    "from tensorflow.keras.optimizers import Adam\n",
    "from tensorflow.keras.callbacks import ModelCheckpoint, EarlyStopping, ReduceLROnPlateau\n",
    "\n",
    "from tensorflow.keras.applications import ResNet152V2,ResNet50V2\n",
    "from tensorflow.keras.models import Sequential"
   ]
  },
  {
   "cell_type": "code",
   "execution_count": 2,
   "metadata": {},
   "outputs": [
    {
     "name": "stdout",
     "output_type": "stream",
     "text": [
      "127\n"
     ]
    }
   ],
   "source": [
    "# data 불러오기\n",
    "data_dir = 'data_preprocess'\n",
    "train_dir = os.path.join(data_dir)\n",
    "train_fnames = os.listdir(train_dir)\n",
    "NUM_CLASSES = len(train_fnames)\n",
    "print(NUM_CLASSES)"
   ]
  },
  {
   "cell_type": "code",
   "execution_count": 3,
   "metadata": {},
   "outputs": [
    {
     "name": "stdout",
     "output_type": "stream",
     "text": [
      "Found 23523 images belonging to 127 classes.\n",
      "Found 2558 images belonging to 127 classes.\n"
     ]
    }
   ],
   "source": [
    "train_datagen = ImageDataGenerator(rescale=1./255.,\n",
    "                                 horizontal_flip = True,\n",
    "                                  validation_split=0.1)\n",
    "\n",
    "train_data = train_datagen.flow_from_directory(train_dir,\n",
    "                                              target_size=(224,224),\n",
    "                                              batch_size=32,\n",
    "                                              class_mode=\"categorical\",\n",
    "                                              shuffle = True,\n",
    "                                              subset='training')\n",
    "validation_data = train_datagen.flow_from_directory(train_dir,\n",
    "                                              target_size=(224,224),\n",
    "                                              batch_size=32,\n",
    "                                              class_mode=\"categorical\",\n",
    "                                              shuffle = True,\n",
    "                                              subset='validation')"
   ]
  },
  {
   "cell_type": "code",
   "execution_count": 4,
   "metadata": {},
   "outputs": [],
   "source": [
    "earlystopping = EarlyStopping(monitor='val_accuracy', \n",
    "                              patience=20,\n",
    "                              mode = 'max'         \n",
    "                             )\n",
    "\n",
    "reduceLR = ReduceLROnPlateau(\n",
    "    monitor='val_accuracy', \n",
    "    factor=0.5,         \n",
    "    patience=5,         \n",
    "    min_lr=1e-5\n",
    ")"
   ]
  },
  {
   "cell_type": "code",
   "execution_count": 7,
   "metadata": {},
   "outputs": [],
   "source": [
    "def model_learning(Model,model_name,x_data,x_label):\n",
    "    model = Sequential()\n",
    "    model = Model\n",
    "    model.compile(optimizer = Adam(1e-4),\n",
    "                loss = 'sparse_categorical_crossentropy',\n",
    "                metrics = ['accuracy'])\n",
    "\n",
    "    history = model.fit(train_data,\n",
    "                    epochs = 5,\n",
    "                    batch_size=128,\n",
    "                    validation_data = validation_data,\n",
    "                    callbacks=[reduceLR , earlystopping],\n",
    "                    )\n",
    "#################################################################################    \n",
    "    his_dict = history.history\n",
    "    loss = his_dict['loss']\n",
    "    val_loss = his_dict['val_loss'] \n",
    "\n",
    "    epochs = range(1, len(loss) + 1)\n",
    "    fig = plt.figure(figsize = (15, 10))\n",
    "\n",
    "# 훈련 및 검증 손실 그리기\n",
    "    ax1 = fig.add_subplot(1, 2, 1)\n",
    "    ax1.plot(epochs, loss, color = 'blue', label = 'train loss')\n",
    "    ax1.plot(epochs, val_loss, color = 'red',linestyle='--', label = 'validation loss')\n",
    "    ax1.set_title('train and val loss')\n",
    "    ax1.set_xlabel('epochs')\n",
    "    ax1.set_ylabel('loss')\n",
    "    ax1.legend()\n",
    "\n",
    "    acc = his_dict['accuracy']\n",
    "    val_acc = his_dict['val_accuracy']\n",
    "\n",
    "# 훈련 및 검증 정확도 그리기\n",
    "    ax2 = fig.add_subplot(1, 2, 2)\n",
    "    ax2.plot(epochs, acc, color = 'blue', label = 'train accuracy')\n",
    "    ax2.plot(epochs, val_acc, color = 'red',linestyle='--', label = 'validation accuracy')\n",
    "    ax2.set_title('train and val accuracy')\n",
    "    ax2.set_xlabel('epochs')\n",
    "    ax2.set_ylabel('accuracy')\n",
    "    ax2.legend()\n",
    "\n",
    "    model.save(str(model_name)+\".h5\")    \n",
    "    plt.savefig(str(model_name)+str(fold_var)+\".png\",dpi=200)\n",
    "\n",
    "    tf.keras.backend.clear_session()\n",
    "\n",
    "    return"
   ]
  },
  {
   "cell_type": "code",
   "execution_count": null,
   "metadata": {},
   "outputs": [],
   "source": []
  }
 ],
 "metadata": {
  "interpreter": {
   "hash": "d5ebc6cf6f7fb120347a232b371902f436be28b211613027002426b5b4c265db"
  },
  "kernelspec": {
   "display_name": "Python 3.9.13 ('tensor-mac')",
   "language": "python",
   "name": "python3"
  },
  "language_info": {
   "codemirror_mode": {
    "name": "ipython",
    "version": 3
   },
   "file_extension": ".py",
   "mimetype": "text/x-python",
   "name": "python",
   "nbconvert_exporter": "python",
   "pygments_lexer": "ipython3",
   "version": "3.9.13"
  },
  "orig_nbformat": 4
 },
 "nbformat": 4,
 "nbformat_minor": 2
}
